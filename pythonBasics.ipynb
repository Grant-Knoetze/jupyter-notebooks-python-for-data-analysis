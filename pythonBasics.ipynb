{
 "cells": [
  {
   "cell_type": "markdown",
   "id": "22319710-c1aa-4872-9b20-ad99dd334d31",
   "metadata": {},
   "source": [
    "* Python uses indentation and not brackets, standard is four spaces\n"
   ]
  },
  {
   "cell_type": "code",
   "execution_count": 7,
   "id": "c6e1f0b8-566b-4227-85ea-586898ce7c19",
   "metadata": {},
   "outputs": [
    {
     "name": "stdout",
     "output_type": "stream",
     "text": [
      "Less than pivot: [3, 2, 1, 4]\n",
      "Greater than or equal to pivot: [6, 8, 9, 7]\n",
      "Sorted array: [1, 2, 3, 4, 6, 7, 8, 9]\n"
     ]
    }
   ],
   "source": [
    "# Initialize the array and lists for sorting\n",
    "array = [3, 6, 2, 8, 1, 9, 4, 7]  # Example array\n",
    "less = []  # For elements less than the pivot\n",
    "greater = []  # For elements greater than or equal to the pivot\n",
    "pivot = 5  # Pivot value for partitioning\n",
    "\n",
    "# Loop through the array and partition elements\n",
    "for x in array:\n",
    "    if x < pivot:\n",
    "        less.append(x)  # Add to 'less' if element is smaller than pivot\n",
    "    else:\n",
    "        greater.append(x)  # Add to 'greater' otherwise\n",
    "\n",
    "# Combine the results (optional: sort the partitions if needed)\n",
    "sorted_array = sorted(less) + sorted(greater)\n",
    "\n",
    "# Output the results\n",
    "print(\"Less than pivot:\", less)\n",
    "print(\"Greater than or equal to pivot:\", greater)\n",
    "print(\"Sorted array:\", sorted_array)\n",
    "    "
   ]
  },
  {
   "cell_type": "code",
   "execution_count": null,
   "id": "c4d8986c-bc87-4745-bcb0-1e2044817820",
   "metadata": {},
   "outputs": [],
   "source": []
  },
  {
   "cell_type": "code",
   "execution_count": null,
   "id": "e9181513-2c6d-4125-bfdf-b89ba9341676",
   "metadata": {},
   "outputs": [],
   "source": []
  }
 ],
 "metadata": {
  "kernelspec": {
   "display_name": "Python 3 (ipykernel)",
   "language": "python",
   "name": "python3"
  },
  "language_info": {
   "codemirror_mode": {
    "name": "ipython",
    "version": 3
   },
   "file_extension": ".py",
   "mimetype": "text/x-python",
   "name": "python",
   "nbconvert_exporter": "python",
   "pygments_lexer": "ipython3",
   "version": "3.12.4"
  }
 },
 "nbformat": 4,
 "nbformat_minor": 5
}
